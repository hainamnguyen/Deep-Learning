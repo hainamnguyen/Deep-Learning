{
 "cells": [
  {
   "cell_type": "code",
   "execution_count": 11,
   "metadata": {},
   "outputs": [],
   "source": [
    "import numpy as np\n",
    "from keras import layers\n",
    "from keras.layers import Input, Dense, Activation, ZeroPadding2D, BatchNormalization, Flatten, Conv2D\n",
    "from keras.layers import AveragePooling2D, MaxPooling2D, Dropout, GlobalMaxPooling2D, GlobalAveragePooling2D\n",
    "from keras.models import Model\n",
    "from keras.preprocessing import image\n",
    "from keras.utils import layer_utils\n",
    "from keras.utils.data_utils import get_file\n",
    "from keras.applications.imagenet_utils import preprocess_input\n",
    "import pydot\n",
    "from IPython.display import SVG\n",
    "from keras.utils.vis_utils import model_to_dot\n",
    "from keras.utils import plot_model\n",
    "from kt_utils import *\n",
    "\n",
    "import keras.backend as K\n",
    "K.set_image_data_format('channels_last')\n",
    "import matplotlib.pyplot as plt\n",
    "from matplotlib.pyplot import imshow\n",
    "\n",
    "%matplotlib inline"
   ]
  },
  {
   "cell_type": "code",
   "execution_count": 12,
   "metadata": {},
   "outputs": [],
   "source": [
    "import keras\n"
   ]
  },
  {
   "cell_type": "code",
   "execution_count": 13,
   "metadata": {
    "collapsed": true
   },
   "outputs": [],
   "source": [
    "X_train_orig, Y_train_orig, X_test_orig, Y_test_orig, classes = load_dataset()\n",
    "\n",
    "X_train = X_train_orig/255.\n",
    "X_test = X_test_orig/255.\n",
    "\n",
    "Y_train = Y_train_orig.T\n",
    "Y_test = Y_test_orig.T"
   ]
  },
  {
   "cell_type": "code",
   "execution_count": 14,
   "metadata": {
    "collapsed": true
   },
   "outputs": [],
   "source": [
    "a = np.array([[1, 2, 3], [4,5,6]])"
   ]
  },
  {
   "cell_type": "code",
   "execution_count": 15,
   "metadata": {},
   "outputs": [
    {
     "data": {
      "text/plain": [
       "array([[1, 4],\n",
       "       [2, 5],\n",
       "       [3, 6]])"
      ]
     },
     "execution_count": 15,
     "metadata": {},
     "output_type": "execute_result"
    }
   ],
   "source": [
    "a.T"
   ]
  },
  {
   "cell_type": "code",
   "execution_count": 16,
   "metadata": {},
   "outputs": [
    {
     "data": {
      "text/plain": [
       "array([[1, 2, 3],\n",
       "       [4, 5, 6]])"
      ]
     },
     "execution_count": 16,
     "metadata": {},
     "output_type": "execute_result"
    }
   ],
   "source": [
    "a.T.T"
   ]
  },
  {
   "cell_type": "code",
   "execution_count": 19,
   "metadata": {
    "collapsed": true
   },
   "outputs": [],
   "source": [
    "def HappyModel(input_shape):\n",
    "    \"\"\"\n",
    "    Implementation of the HappyModel.\n",
    "    \n",
    "    Arguments:\n",
    "    input_shape -- shape of the images of the dataset\n",
    "\n",
    "    Returns:\n",
    "    model -- a Model() instance in Keras\n",
    "    \"\"\"\n",
    "    # Define the input placeholder as a tensor with shape input_shape. Think of this as your input image!\n",
    "    X_input = Input(input_shape)\n",
    "    \n",
    "    # Zero-Padding: pads the border of X_input with zeroes\n",
    "    X = ZeroPadding2D((3,3))(X_input)\n",
    "    \n",
    "    # CONV -> BN -> RELU Block applied to X\n",
    "    X = Conv2D(32, (7, 7), strides = (1, 1), name = 'conv0')(X)\n",
    "    X = BatchNormalization(axis = 3, name = 'bn0')(X)\n",
    "    X = Activation('relu')(X)\n",
    "    \n",
    "    # MAXPOOL\n",
    "    X = MaxPooling2D((2, 2), name = 'max_pool0')(X)\n",
    "    \n",
    "    X = Conv2D(32, (3,3), strides = (1, 1), name = 'conv1')(X)\n",
    "    X = BatchNormalization(axis  = 3, name = 'bn1')(X)\n",
    "    X = Activation('relu')(X)\n",
    "    \n",
    "    # FLATTEN X (means convert it to a vector) + FULLYCONNECTED\n",
    "    X = Flatten()(X)\n",
    "    X = Dense(1, activation = 'sigmoid', name = 'fc')(X)\n",
    "    # Create model. This creates your Keras model instance, you will use this instance to train/test the model.\n",
    "    model = Model(inputs = X_input, output = X, name = 'HappyModel')\n",
    "    \n",
    "    return model\n"
   ]
  },
  {
   "cell_type": "markdown",
   "metadata": {},
   "source": [
    "You have now built a function to describe your model. To train and test this model, there are four steps in Keras:\n",
    "\n",
    "1. Create the model by calling the function above\n",
    "\n",
    "2. Compile the model by calling model.compile(optimizer = \"...\", loss = \"...\", metrics = [\"accuracy\"])\n",
    "\n",
    "3. Train the model on train data by calling model.fit(x = ..., y = ..., epochs = ..., batch_size = ...)\n",
    "\n",
    "4. Test the model on test data by calling model.evaluate(x = ..., y = ...)"
   ]
  },
  {
   "cell_type": "code",
   "execution_count": 21,
   "metadata": {},
   "outputs": [
    {
     "name": "stderr",
     "output_type": "stream",
     "text": [
      "/home/yoon/anaconda3/lib/python3.6/site-packages/ipykernel_launcher.py:33: UserWarning: Update your `Model` call to the Keras 2 API: `Model(inputs=Tensor(\"in..., name=\"HappyModel\", outputs=Tensor(\"fc...)`\n"
     ]
    },
    {
     "name": "stdout",
     "output_type": "stream",
     "text": [
      "Epoch 1/40\n",
      "600/600 [==============================] - 10s - loss: 1.4312 - acc: 0.6267    \n",
      "Epoch 2/40\n",
      "600/600 [==============================] - 12s - loss: 0.2731 - acc: 0.8817    \n",
      "Epoch 3/40\n",
      "600/600 [==============================] - 11s - loss: 0.1557 - acc: 0.9483    \n",
      "Epoch 4/40\n",
      "600/600 [==============================] - 9s - loss: 0.1258 - acc: 0.9533     \n",
      "Epoch 5/40\n",
      "600/600 [==============================] - 11s - loss: 0.0858 - acc: 0.9700    \n",
      "Epoch 6/40\n",
      "600/600 [==============================] - 11s - loss: 0.0683 - acc: 0.9817    \n",
      "Epoch 7/40\n",
      "600/600 [==============================] - 12s - loss: 0.0650 - acc: 0.9850    \n",
      "Epoch 8/40\n",
      "600/600 [==============================] - 12s - loss: 0.0614 - acc: 0.9767    \n",
      "Epoch 9/40\n",
      "600/600 [==============================] - 11s - loss: 0.0569 - acc: 0.9833    \n",
      "Epoch 10/40\n",
      "600/600 [==============================] - 12s - loss: 0.0640 - acc: 0.9733    \n",
      "Epoch 11/40\n",
      "600/600 [==============================] - 12s - loss: 0.0560 - acc: 0.9800    \n",
      "Epoch 12/40\n",
      "600/600 [==============================] - 12s - loss: 0.0412 - acc: 0.9917    \n",
      "Epoch 13/40\n",
      "600/600 [==============================] - 12s - loss: 0.0389 - acc: 0.9900    \n",
      "Epoch 14/40\n",
      "600/600 [==============================] - 12s - loss: 0.0293 - acc: 0.9900    \n",
      "Epoch 15/40\n",
      "600/600 [==============================] - 11s - loss: 0.0261 - acc: 0.9933    \n",
      "Epoch 16/40\n",
      "600/600 [==============================] - 12s - loss: 0.0241 - acc: 0.9917    \n",
      "Epoch 17/40\n",
      "600/600 [==============================] - 12s - loss: 0.0165 - acc: 0.9967    \n",
      "Epoch 18/40\n",
      "600/600 [==============================] - 10s - loss: 0.0201 - acc: 0.9950    \n",
      "Epoch 19/40\n",
      "600/600 [==============================] - 10s - loss: 0.0203 - acc: 0.9933    \n",
      "Epoch 20/40\n",
      "600/600 [==============================] - 10s - loss: 0.0234 - acc: 0.9900    \n",
      "Epoch 21/40\n",
      "600/600 [==============================] - 10s - loss: 0.0277 - acc: 0.9917    \n",
      "Epoch 22/40\n",
      "600/600 [==============================] - 10s - loss: 0.0130 - acc: 0.9983    \n",
      "Epoch 23/40\n",
      "600/600 [==============================] - 10s - loss: 0.0103 - acc: 0.9983    \n",
      "Epoch 24/40\n",
      "600/600 [==============================] - 11s - loss: 0.0085 - acc: 0.9983    \n",
      "Epoch 25/40\n",
      "600/600 [==============================] - 10s - loss: 0.0115 - acc: 0.9950    \n",
      "Epoch 26/40\n",
      "600/600 [==============================] - 10s - loss: 0.0071 - acc: 1.0000    \n",
      "Epoch 27/40\n",
      "600/600 [==============================] - 10s - loss: 0.0085 - acc: 0.9967    \n",
      "Epoch 28/40\n",
      "600/600 [==============================] - 10s - loss: 0.0068 - acc: 0.9983    \n",
      "Epoch 29/40\n",
      "600/600 [==============================] - 10s - loss: 0.0051 - acc: 0.9983    \n",
      "Epoch 30/40\n",
      "600/600 [==============================] - 10s - loss: 0.0062 - acc: 1.0000    \n",
      "Epoch 31/40\n",
      "600/600 [==============================] - 10s - loss: 0.0054 - acc: 0.9983    \n",
      "Epoch 32/40\n",
      "600/600 [==============================] - 10s - loss: 0.0046 - acc: 1.0000    \n",
      "Epoch 33/40\n",
      "600/600 [==============================] - 10s - loss: 0.0035 - acc: 1.0000    \n",
      "Epoch 34/40\n",
      "600/600 [==============================] - 10s - loss: 0.0032 - acc: 1.0000    \n",
      "Epoch 35/40\n",
      "600/600 [==============================] - 10s - loss: 0.0023 - acc: 1.0000    \n",
      "Epoch 36/40\n",
      "600/600 [==============================] - 10s - loss: 0.0020 - acc: 1.0000    \n",
      "Epoch 37/40\n",
      "600/600 [==============================] - 10s - loss: 0.0025 - acc: 1.0000    \n",
      "Epoch 38/40\n",
      "600/600 [==============================] - 10s - loss: 0.0028 - acc: 1.0000    \n",
      "Epoch 39/40\n",
      "600/600 [==============================] - 10s - loss: 0.0042 - acc: 0.9983    \n",
      "Epoch 40/40\n",
      "600/600 [==============================] - 10s - loss: 0.0017 - acc: 1.0000    \n"
     ]
    },
    {
     "data": {
      "text/plain": [
       "<keras.callbacks.History at 0x7fb0e2122cc0>"
      ]
     },
     "execution_count": 21,
     "metadata": {},
     "output_type": "execute_result"
    }
   ],
   "source": [
    "happy_model = HappyModel((64, 64, 3))\n",
    "happy_model.compile(optimizer = 'adam', loss = 'binary_crossentropy', metrics = ['accuracy'])\n",
    "happy_model.fit(X_train, Y_train, epochs = 40, batch_size = 50)"
   ]
  },
  {
   "cell_type": "code",
   "execution_count": 22,
   "metadata": {},
   "outputs": [
    {
     "name": "stdout",
     "output_type": "stream",
     "text": [
      "150/150 [==============================] - 1s     \n"
     ]
    }
   ],
   "source": [
    "preds = happy_model.evaluate(X_test, Y_test, verbose = 1)"
   ]
  },
  {
   "cell_type": "code",
   "execution_count": 23,
   "metadata": {},
   "outputs": [
    {
     "name": "stdout",
     "output_type": "stream",
     "text": [
      "Loss = 0.0876320854823\n",
      "Test Accuracy = 0.953333334923\n"
     ]
    }
   ],
   "source": [
    "print (\"Loss = \" + str(preds[0]))\n",
    "print (\"Test Accuracy = \" + str(preds[1]))"
   ]
  },
  {
   "cell_type": "code",
   "execution_count": null,
   "metadata": {
    "collapsed": true
   },
   "outputs": [],
   "source": []
  }
 ],
 "metadata": {
  "kernelspec": {
   "display_name": "Python 3",
   "language": "python",
   "name": "python3"
  },
  "language_info": {
   "codemirror_mode": {
    "name": "ipython",
    "version": 3
   },
   "file_extension": ".py",
   "mimetype": "text/x-python",
   "name": "python",
   "nbconvert_exporter": "python",
   "pygments_lexer": "ipython3",
   "version": "3.6.1"
  }
 },
 "nbformat": 4,
 "nbformat_minor": 2
}
